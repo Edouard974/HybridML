{
  "cells": [
    {
      "cell_type": "markdown",
      "id": "S1VHN2xFWXrO",
      "metadata": {
        "id": "S1VHN2xFWXrO"
      },
      "source": [
        "# Problème de Poisson\n",
        "Ce notebook génère un dataset synthétique basé sur l'équation de Poisson, puis entraîne un MLP pour approximer la solution $u(x, y)$ à partir de $f(x, y)$."
      ]
    },
    {
      "cell_type": "markdown",
      "id": "623984ad",
      "metadata": {
        "id": "623984ad"
      },
      "source": [
        "<img src=\"images/Poisson1.png\" alt=\"Poisson 1\" width=\"400\"/>\n",
        "<img src=\"images/Poisson2.png\" alt=\"Poisson 2\" width=\"400\"/>\n"
      ]
    },
    {
      "cell_type": "code",
      "execution_count": 1,
      "id": "_FORwdH8WXrS",
      "metadata": {
        "id": "_FORwdH8WXrS"
      },
      "outputs": [],
      "source": [
        "import numpy as np\n",
        "import matplotlib.pyplot as plt\n",
        "from scipy.sparse import diags\n",
        "from scipy.sparse.linalg import spsolve\n",
        "from sklearn.model_selection import train_test_split\n",
        "from sklearn.preprocessing import MinMaxScaler\n",
        "from sklearn.metrics import mean_squared_error\n",
        "import tensorflow as tf\n",
        "from tensorflow.keras import layers\n"
      ]
    },
    {
      "cell_type": "markdown",
      "id": "6e57ea1a",
      "metadata": {
        "id": "6e57ea1a"
      },
      "source": [
        "### Approche  \n",
        "Nature du modèle, travail de prétraitementet/oucalibrageéventuel, séparationtrain/test/validation, nombred’échantillonsgénérés"
      ]
    },
    {
      "cell_type": "markdown",
      "id": "fb16ed8e",
      "metadata": {
        "id": "fb16ed8e"
      },
      "source": [
        "### Génération des données synthétiques"
      ]
    },
    {
      "cell_type": "code",
      "execution_count": 2,
      "id": "9b61d9d4",
      "metadata": {
        "colab": {
          "base_uri": "https://localhost:8080/"
        },
        "id": "9b61d9d4",
        "outputId": "272f7c70-6a71-421c-c965-9fae23549566"
      },
      "outputs": [
        {
          "name": "stdout",
          "output_type": "stream",
          "text": [
            "Dataset shape: (100, 2) (samples) x 2025 (grid points)\n"
          ]
        }
      ],
      "source": [
        "\n",
        "# Finite Difference Solver\n",
        "def solve_poisson(a, b, N=45):\n",
        "    \"\"\"\n",
        "    Solves Poisson equation on 45x45 grid (2025 nodes)\n",
        "    Returns solution u and source term f\n",
        "    \"\"\"\n",
        "    # Create grid\n",
        "    x = np.linspace(0, 1, N)\n",
        "    y = np.linspace(0, 1, N)\n",
        "    X, Y = np.meshgrid(x, y)\n",
        "\n",
        "    # Create source term\n",
        "    f = X*np.sin(a*np.pi*Y) + Y*np.sin(b*np.pi*X)\n",
        "\n",
        "    # FD matrix construction (sparse)\n",
        "    h = 1/(N-1)\n",
        "    main_diag = -4/h**2 * np.ones(N*N)\n",
        "    off_diag = 1/h**2 * np.ones(N*N - 1)\n",
        "    diagonals = [main_diag, off_diag, off_diag, off_diag, off_diag]\n",
        "    A = diags(diagonals, [0, 1, -1, N, -N], format='csr')\n",
        "\n",
        "    # Apply BCs (set boundary rows to identity)\n",
        "    boundary = np.zeros(N*N, bool)\n",
        "    boundary[:N] = True\n",
        "    boundary[-N:] = True\n",
        "    boundary[::N] = True\n",
        "    boundary[N-1::N] = True\n",
        "    A = A.tolil()\n",
        "    A[boundary, :] = 0\n",
        "    A[boundary, boundary] = 1\n",
        "    A = A.tocsr()\n",
        "\n",
        "    # Create RHS vector\n",
        "    F = f.flatten()\n",
        "    F[boundary] = 0  # Dirichlet BCs\n",
        "\n",
        "    # Solve system\n",
        "    u = spsolve(A, F)\n",
        "    return u.reshape(N, N), f\n",
        "\n",
        "\n",
        "# Generate training data\n",
        "np.random.seed(42)\n",
        "num_samples = 100  # Reduced for demo, increase for better results\n",
        "a_vals = np.random.uniform(1, 5, num_samples)\n",
        "b_vals = np.random.uniform(1, 5, num_samples)\n",
        "\n",
        "X = np.vstack([a_vals, b_vals]).T\n",
        "y = np.array([solve_poisson(a, b)[0].flatten() for a, b in X])\n",
        "\n",
        "print(f\"Dataset shape: {X.shape} (samples) x {y.shape[1]} (grid points)\")\n"
      ]
    },
    {
      "cell_type": "markdown",
      "id": "2e46f48a",
      "metadata": {
        "id": "2e46f48a"
      },
      "source": [
        "### Preprocess/Training"
      ]
    },
    {
      "cell_type": "code",
      "execution_count": 3,
      "id": "ae674b7c",
      "metadata": {
        "colab": {
          "base_uri": "https://localhost:8080/",
          "height": 280
        },
        "id": "ae674b7c",
        "outputId": "9b62b732-6a93-4d94-b78e-d2f7b3fbba49"
      },
      "outputs": [
        {
          "name": "stderr",
          "output_type": "stream",
          "text": [
            "/usr/local/lib/python3.11/dist-packages/keras/src/layers/core/dense.py:87: UserWarning: Do not pass an `input_shape`/`input_dim` argument to a layer. When using Sequential models, prefer using an `Input(shape)` object as the first layer in the model instead.\n",
            "  super().__init__(activity_regularizer=activity_regularizer, **kwargs)\n"
          ]
        },
        {
          "data": {
            "text/html": [
              "<pre style=\"white-space:pre;overflow-x:auto;line-height:normal;font-family:Menlo,'DejaVu Sans Mono',consolas,'Courier New',monospace\"><span style=\"font-weight: bold\">Model: \"sequential\"</span>\n",
              "</pre>\n"
            ],
            "text/plain": [
              "\u001b[1mModel: \"sequential\"\u001b[0m\n"
            ]
          },
          "metadata": {},
          "output_type": "display_data"
        },
        {
          "data": {
            "text/html": [
              "<pre style=\"white-space:pre;overflow-x:auto;line-height:normal;font-family:Menlo,'DejaVu Sans Mono',consolas,'Courier New',monospace\">┏━━━━━━━━━━━━━━━━━━━━━━━━━━━━━━━━━┳━━━━━━━━━━━━━━━━━━━━━━━━┳━━━━━━━━━━━━━━━┓\n",
              "┃<span style=\"font-weight: bold\"> Layer (type)                    </span>┃<span style=\"font-weight: bold\"> Output Shape           </span>┃<span style=\"font-weight: bold\">       Param # </span>┃\n",
              "┡━━━━━━━━━━━━━━━━━━━━━━━━━━━━━━━━━╇━━━━━━━━━━━━━━━━━━━━━━━━╇━━━━━━━━━━━━━━━┩\n",
              "│ dense (<span style=\"color: #0087ff; text-decoration-color: #0087ff\">Dense</span>)                   │ (<span style=\"color: #00d7ff; text-decoration-color: #00d7ff\">None</span>, <span style=\"color: #00af00; text-decoration-color: #00af00\">128</span>)            │           <span style=\"color: #00af00; text-decoration-color: #00af00\">384</span> │\n",
              "├─────────────────────────────────┼────────────────────────┼───────────────┤\n",
              "│ dense_1 (<span style=\"color: #0087ff; text-decoration-color: #0087ff\">Dense</span>)                 │ (<span style=\"color: #00d7ff; text-decoration-color: #00d7ff\">None</span>, <span style=\"color: #00af00; text-decoration-color: #00af00\">256</span>)            │        <span style=\"color: #00af00; text-decoration-color: #00af00\">33,024</span> │\n",
              "├─────────────────────────────────┼────────────────────────┼───────────────┤\n",
              "│ dense_2 (<span style=\"color: #0087ff; text-decoration-color: #0087ff\">Dense</span>)                 │ (<span style=\"color: #00d7ff; text-decoration-color: #00d7ff\">None</span>, <span style=\"color: #00af00; text-decoration-color: #00af00\">2025</span>)           │       <span style=\"color: #00af00; text-decoration-color: #00af00\">520,425</span> │\n",
              "└─────────────────────────────────┴────────────────────────┴───────────────┘\n",
              "</pre>\n"
            ],
            "text/plain": [
              "┏━━━━━━━━━━━━━━━━━━━━━━━━━━━━━━━━━┳━━━━━━━━━━━━━━━━━━━━━━━━┳━━━━━━━━━━━━━━━┓\n",
              "┃\u001b[1m \u001b[0m\u001b[1mLayer (type)                   \u001b[0m\u001b[1m \u001b[0m┃\u001b[1m \u001b[0m\u001b[1mOutput Shape          \u001b[0m\u001b[1m \u001b[0m┃\u001b[1m \u001b[0m\u001b[1m      Param #\u001b[0m\u001b[1m \u001b[0m┃\n",
              "┡━━━━━━━━━━━━━━━━━━━━━━━━━━━━━━━━━╇━━━━━━━━━━━━━━━━━━━━━━━━╇━━━━━━━━━━━━━━━┩\n",
              "│ dense (\u001b[38;5;33mDense\u001b[0m)                   │ (\u001b[38;5;45mNone\u001b[0m, \u001b[38;5;34m128\u001b[0m)            │           \u001b[38;5;34m384\u001b[0m │\n",
              "├─────────────────────────────────┼────────────────────────┼───────────────┤\n",
              "│ dense_1 (\u001b[38;5;33mDense\u001b[0m)                 │ (\u001b[38;5;45mNone\u001b[0m, \u001b[38;5;34m256\u001b[0m)            │        \u001b[38;5;34m33,024\u001b[0m │\n",
              "├─────────────────────────────────┼────────────────────────┼───────────────┤\n",
              "│ dense_2 (\u001b[38;5;33mDense\u001b[0m)                 │ (\u001b[38;5;45mNone\u001b[0m, \u001b[38;5;34m2025\u001b[0m)           │       \u001b[38;5;34m520,425\u001b[0m │\n",
              "└─────────────────────────────────┴────────────────────────┴───────────────┘\n"
            ]
          },
          "metadata": {},
          "output_type": "display_data"
        },
        {
          "data": {
            "text/html": [
              "<pre style=\"white-space:pre;overflow-x:auto;line-height:normal;font-family:Menlo,'DejaVu Sans Mono',consolas,'Courier New',monospace\"><span style=\"font-weight: bold\"> Total params: </span><span style=\"color: #00af00; text-decoration-color: #00af00\">553,833</span> (2.11 MB)\n",
              "</pre>\n"
            ],
            "text/plain": [
              "\u001b[1m Total params: \u001b[0m\u001b[38;5;34m553,833\u001b[0m (2.11 MB)\n"
            ]
          },
          "metadata": {},
          "output_type": "display_data"
        },
        {
          "data": {
            "text/html": [
              "<pre style=\"white-space:pre;overflow-x:auto;line-height:normal;font-family:Menlo,'DejaVu Sans Mono',consolas,'Courier New',monospace\"><span style=\"font-weight: bold\"> Trainable params: </span><span style=\"color: #00af00; text-decoration-color: #00af00\">553,833</span> (2.11 MB)\n",
              "</pre>\n"
            ],
            "text/plain": [
              "\u001b[1m Trainable params: \u001b[0m\u001b[38;5;34m553,833\u001b[0m (2.11 MB)\n"
            ]
          },
          "metadata": {},
          "output_type": "display_data"
        },
        {
          "data": {
            "text/html": [
              "<pre style=\"white-space:pre;overflow-x:auto;line-height:normal;font-family:Menlo,'DejaVu Sans Mono',consolas,'Courier New',monospace\"><span style=\"font-weight: bold\"> Non-trainable params: </span><span style=\"color: #00af00; text-decoration-color: #00af00\">0</span> (0.00 B)\n",
              "</pre>\n"
            ],
            "text/plain": [
              "\u001b[1m Non-trainable params: \u001b[0m\u001b[38;5;34m0\u001b[0m (0.00 B)\n"
            ]
          },
          "metadata": {},
          "output_type": "display_data"
        }
      ],
      "source": [
        "# Preprocessing\n",
        "# Train-test split\n",
        "X_train, X_test, y_train, y_test = train_test_split(X, y, test_size=0.2, random_state=42)\n",
        "\n",
        "# Scale features\n",
        "scaler = MinMaxScaler(feature_range=(0, 1))\n",
        "X_train_scaled = scaler.fit_transform(X_train)\n",
        "X_test_scaled = scaler.transform(X_test)\n",
        "\n",
        "# Model Definition\n",
        "model = tf.keras.Sequential([\n",
        "    layers.Dense(128, activation='relu', input_shape=(2,)),\n",
        "    layers.Dense(256, activation='relu'),\n",
        "    layers.Dense(45*45)  # Output layer for flattened grid\n",
        "])\n",
        "\n",
        "model.compile(optimizer='adam',\n",
        "              loss='mse',\n",
        "              metrics=['mae'])\n",
        "\n",
        "model.summary()\n",
        "\n"
      ]
    },
    {
      "cell_type": "code",
      "execution_count": 4,
      "id": "bae1db64",
      "metadata": {
        "colab": {
          "base_uri": "https://localhost:8080/"
        },
        "id": "bae1db64",
        "outputId": "832e4a84-b3c5-4a21-ce9f-5712c317807b"
      },
      "outputs": [
        {
          "name": "stdout",
          "output_type": "stream",
          "text": [
            "Epoch 1/50\n",
            "\u001b[1m4/4\u001b[0m \u001b[32m━━━━━━━━━━━━━━━━━━━━\u001b[0m\u001b[37m\u001b[0m \u001b[1m2s\u001b[0m 143ms/step - loss: 2.9213e-04 - mae: 0.0132 - val_loss: 1.2133e-04 - val_mae: 0.0084\n",
            "Epoch 2/50\n",
            "\u001b[1m4/4\u001b[0m \u001b[32m━━━━━━━━━━━━━━━━━━━━\u001b[0m\u001b[37m\u001b[0m \u001b[1m0s\u001b[0m 55ms/step - loss: 1.1301e-04 - mae: 0.0080 - val_loss: 7.0341e-05 - val_mae: 0.0063\n",
            "Epoch 3/50\n",
            "\u001b[1m4/4\u001b[0m \u001b[32m━━━━━━━━━━━━━━━━━━━━\u001b[0m\u001b[37m\u001b[0m \u001b[1m0s\u001b[0m 43ms/step - loss: 8.8866e-05 - mae: 0.0069 - val_loss: 6.6849e-05 - val_mae: 0.0062\n",
            "Epoch 4/50\n",
            "\u001b[1m4/4\u001b[0m \u001b[32m━━━━━━━━━━━━━━━━━━━━\u001b[0m\u001b[37m\u001b[0m \u001b[1m0s\u001b[0m 56ms/step - loss: 8.3249e-05 - mae: 0.0068 - val_loss: 6.6416e-05 - val_mae: 0.0063\n",
            "Epoch 5/50\n",
            "\u001b[1m4/4\u001b[0m \u001b[32m━━━━━━━━━━━━━━━━━━━━\u001b[0m\u001b[37m\u001b[0m \u001b[1m0s\u001b[0m 53ms/step - loss: 9.5896e-05 - mae: 0.0072 - val_loss: 6.3518e-05 - val_mae: 0.0061\n",
            "Epoch 6/50\n",
            "\u001b[1m4/4\u001b[0m \u001b[32m━━━━━━━━━━━━━━━━━━━━\u001b[0m\u001b[37m\u001b[0m \u001b[1m0s\u001b[0m 60ms/step - loss: 8.1241e-05 - mae: 0.0066 - val_loss: 5.9030e-05 - val_mae: 0.0058\n",
            "Epoch 7/50\n",
            "\u001b[1m4/4\u001b[0m \u001b[32m━━━━━━━━━━━━━━━━━━━━\u001b[0m\u001b[37m\u001b[0m \u001b[1m0s\u001b[0m 57ms/step - loss: 7.2083e-05 - mae: 0.0062 - val_loss: 5.4486e-05 - val_mae: 0.0055\n",
            "Epoch 8/50\n",
            "\u001b[1m4/4\u001b[0m \u001b[32m━━━━━━━━━━━━━━━━━━━━\u001b[0m\u001b[37m\u001b[0m \u001b[1m0s\u001b[0m 57ms/step - loss: 7.3634e-05 - mae: 0.0060 - val_loss: 5.1245e-05 - val_mae: 0.0053\n",
            "Epoch 9/50\n",
            "\u001b[1m4/4\u001b[0m \u001b[32m━━━━━━━━━━━━━━━━━━━━\u001b[0m\u001b[37m\u001b[0m \u001b[1m0s\u001b[0m 64ms/step - loss: 6.6527e-05 - mae: 0.0058 - val_loss: 4.8566e-05 - val_mae: 0.0051\n",
            "Epoch 10/50\n",
            "\u001b[1m4/4\u001b[0m \u001b[32m━━━━━━━━━━━━━━━━━━━━\u001b[0m\u001b[37m\u001b[0m \u001b[1m0s\u001b[0m 47ms/step - loss: 6.6331e-05 - mae: 0.0057 - val_loss: 4.7058e-05 - val_mae: 0.0050\n",
            "Epoch 11/50\n",
            "\u001b[1m4/4\u001b[0m \u001b[32m━━━━━━━━━━━━━━━━━━━━\u001b[0m\u001b[37m\u001b[0m \u001b[1m0s\u001b[0m 29ms/step - loss: 6.6184e-05 - mae: 0.0057 - val_loss: 4.5640e-05 - val_mae: 0.0049\n",
            "Epoch 12/50\n",
            "\u001b[1m4/4\u001b[0m \u001b[32m━━━━━━━━━━━━━━━━━━━━\u001b[0m\u001b[37m\u001b[0m \u001b[1m0s\u001b[0m 32ms/step - loss: 6.9685e-05 - mae: 0.0057 - val_loss: 4.4316e-05 - val_mae: 0.0048\n",
            "Epoch 13/50\n",
            "\u001b[1m4/4\u001b[0m \u001b[32m━━━━━━━━━━━━━━━━━━━━\u001b[0m\u001b[37m\u001b[0m \u001b[1m0s\u001b[0m 31ms/step - loss: 6.2743e-05 - mae: 0.0055 - val_loss: 4.2895e-05 - val_mae: 0.0047\n",
            "Epoch 14/50\n",
            "\u001b[1m4/4\u001b[0m \u001b[32m━━━━━━━━━━━━━━━━━━━━\u001b[0m\u001b[37m\u001b[0m \u001b[1m0s\u001b[0m 31ms/step - loss: 6.1133e-05 - mae: 0.0054 - val_loss: 4.1506e-05 - val_mae: 0.0046\n",
            "Epoch 15/50\n",
            "\u001b[1m4/4\u001b[0m \u001b[32m━━━━━━━━━━━━━━━━━━━━\u001b[0m\u001b[37m\u001b[0m \u001b[1m0s\u001b[0m 29ms/step - loss: 5.3204e-05 - mae: 0.0051 - val_loss: 4.0022e-05 - val_mae: 0.0045\n",
            "Epoch 16/50\n",
            "\u001b[1m4/4\u001b[0m \u001b[32m━━━━━━━━━━━━━━━━━━━━\u001b[0m\u001b[37m\u001b[0m \u001b[1m0s\u001b[0m 29ms/step - loss: 5.5126e-05 - mae: 0.0051 - val_loss: 3.8902e-05 - val_mae: 0.0045\n",
            "Epoch 17/50\n",
            "\u001b[1m4/4\u001b[0m \u001b[32m━━━━━━━━━━━━━━━━━━━━\u001b[0m\u001b[37m\u001b[0m \u001b[1m0s\u001b[0m 32ms/step - loss: 5.3481e-05 - mae: 0.0050 - val_loss: 3.7547e-05 - val_mae: 0.0044\n",
            "Epoch 18/50\n",
            "\u001b[1m4/4\u001b[0m \u001b[32m━━━━━━━━━━━━━━━━━━━━\u001b[0m\u001b[37m\u001b[0m \u001b[1m0s\u001b[0m 31ms/step - loss: 5.2056e-05 - mae: 0.0050 - val_loss: 3.6128e-05 - val_mae: 0.0043\n",
            "Epoch 19/50\n",
            "\u001b[1m4/4\u001b[0m \u001b[32m━━━━━━━━━━━━━━━━━━━━\u001b[0m\u001b[37m\u001b[0m \u001b[1m0s\u001b[0m 30ms/step - loss: 5.0354e-05 - mae: 0.0049 - val_loss: 3.4902e-05 - val_mae: 0.0042\n",
            "Epoch 20/50\n",
            "\u001b[1m4/4\u001b[0m \u001b[32m━━━━━━━━━━━━━━━━━━━━\u001b[0m\u001b[37m\u001b[0m \u001b[1m0s\u001b[0m 32ms/step - loss: 4.7898e-05 - mae: 0.0048 - val_loss: 3.3296e-05 - val_mae: 0.0041\n",
            "Epoch 21/50\n",
            "\u001b[1m4/4\u001b[0m \u001b[32m━━━━━━━━━━━━━━━━━━━━\u001b[0m\u001b[37m\u001b[0m \u001b[1m0s\u001b[0m 38ms/step - loss: 4.3132e-05 - mae: 0.0046 - val_loss: 3.1435e-05 - val_mae: 0.0040\n",
            "Epoch 22/50\n",
            "\u001b[1m4/4\u001b[0m \u001b[32m━━━━━━━━━━━━━━━━━━━━\u001b[0m\u001b[37m\u001b[0m \u001b[1m0s\u001b[0m 29ms/step - loss: 4.5383e-05 - mae: 0.0046 - val_loss: 3.0008e-05 - val_mae: 0.0039\n",
            "Epoch 23/50\n",
            "\u001b[1m4/4\u001b[0m \u001b[32m━━━━━━━━━━━━━━━━━━━━\u001b[0m\u001b[37m\u001b[0m \u001b[1m0s\u001b[0m 32ms/step - loss: 3.8517e-05 - mae: 0.0043 - val_loss: 2.8915e-05 - val_mae: 0.0038\n",
            "Epoch 24/50\n",
            "\u001b[1m4/4\u001b[0m \u001b[32m━━━━━━━━━━━━━━━━━━━━\u001b[0m\u001b[37m\u001b[0m \u001b[1m0s\u001b[0m 30ms/step - loss: 3.9004e-05 - mae: 0.0042 - val_loss: 2.7868e-05 - val_mae: 0.0037\n",
            "Epoch 25/50\n",
            "\u001b[1m4/4\u001b[0m \u001b[32m━━━━━━━━━━━━━━━━━━━━\u001b[0m\u001b[37m\u001b[0m \u001b[1m0s\u001b[0m 31ms/step - loss: 3.9263e-05 - mae: 0.0042 - val_loss: 2.6875e-05 - val_mae: 0.0036\n",
            "Epoch 26/50\n",
            "\u001b[1m4/4\u001b[0m \u001b[32m━━━━━━━━━━━━━━━━━━━━\u001b[0m\u001b[37m\u001b[0m \u001b[1m0s\u001b[0m 29ms/step - loss: 3.6336e-05 - mae: 0.0041 - val_loss: 2.6544e-05 - val_mae: 0.0036\n",
            "Epoch 27/50\n",
            "\u001b[1m4/4\u001b[0m \u001b[32m━━━━━━━━━━━━━━━━━━━━\u001b[0m\u001b[37m\u001b[0m \u001b[1m0s\u001b[0m 30ms/step - loss: 3.5109e-05 - mae: 0.0040 - val_loss: 2.5426e-05 - val_mae: 0.0035\n",
            "Epoch 28/50\n",
            "\u001b[1m4/4\u001b[0m \u001b[32m━━━━━━━━━━━━━━━━━━━━\u001b[0m\u001b[37m\u001b[0m \u001b[1m0s\u001b[0m 30ms/step - loss: 3.7263e-05 - mae: 0.0041 - val_loss: 2.5119e-05 - val_mae: 0.0035\n",
            "Epoch 29/50\n",
            "\u001b[1m4/4\u001b[0m \u001b[32m━━━━━━━━━━━━━━━━━━━━\u001b[0m\u001b[37m\u001b[0m \u001b[1m0s\u001b[0m 30ms/step - loss: 3.3441e-05 - mae: 0.0038 - val_loss: 2.4360e-05 - val_mae: 0.0034\n",
            "Epoch 30/50\n",
            "\u001b[1m4/4\u001b[0m \u001b[32m━━━━━━━━━━━━━━━━━━━━\u001b[0m\u001b[37m\u001b[0m \u001b[1m0s\u001b[0m 29ms/step - loss: 3.0764e-05 - mae: 0.0037 - val_loss: 2.4090e-05 - val_mae: 0.0034\n",
            "Epoch 31/50\n",
            "\u001b[1m4/4\u001b[0m \u001b[32m━━━━━━━━━━━━━━━━━━━━\u001b[0m\u001b[37m\u001b[0m \u001b[1m0s\u001b[0m 32ms/step - loss: 2.7045e-05 - mae: 0.0034 - val_loss: 2.3655e-05 - val_mae: 0.0033\n",
            "Epoch 32/50\n",
            "\u001b[1m4/4\u001b[0m \u001b[32m━━━━━━━━━━━━━━━━━━━━\u001b[0m\u001b[37m\u001b[0m \u001b[1m0s\u001b[0m 29ms/step - loss: 2.5784e-05 - mae: 0.0034 - val_loss: 2.3155e-05 - val_mae: 0.0033\n",
            "Epoch 33/50\n",
            "\u001b[1m4/4\u001b[0m \u001b[32m━━━━━━━━━━━━━━━━━━━━\u001b[0m\u001b[37m\u001b[0m \u001b[1m0s\u001b[0m 30ms/step - loss: 2.5278e-05 - mae: 0.0034 - val_loss: 2.2211e-05 - val_mae: 0.0032\n",
            "Epoch 34/50\n",
            "\u001b[1m4/4\u001b[0m \u001b[32m━━━━━━━━━━━━━━━━━━━━\u001b[0m\u001b[37m\u001b[0m \u001b[1m0s\u001b[0m 27ms/step - loss: 2.6768e-05 - mae: 0.0034 - val_loss: 2.2526e-05 - val_mae: 0.0032\n",
            "Epoch 35/50\n",
            "\u001b[1m4/4\u001b[0m \u001b[32m━━━━━━━━━━━━━━━━━━━━\u001b[0m\u001b[37m\u001b[0m \u001b[1m0s\u001b[0m 29ms/step - loss: 2.5398e-05 - mae: 0.0033 - val_loss: 2.2487e-05 - val_mae: 0.0032\n",
            "Epoch 36/50\n",
            "\u001b[1m4/4\u001b[0m \u001b[32m━━━━━━━━━━━━━━━━━━━━\u001b[0m\u001b[37m\u001b[0m \u001b[1m0s\u001b[0m 35ms/step - loss: 2.5838e-05 - mae: 0.0034 - val_loss: 2.1760e-05 - val_mae: 0.0032\n",
            "Epoch 37/50\n",
            "\u001b[1m4/4\u001b[0m \u001b[32m━━━━━━━━━━━━━━━━━━━━\u001b[0m\u001b[37m\u001b[0m \u001b[1m0s\u001b[0m 43ms/step - loss: 2.3468e-05 - mae: 0.0032 - val_loss: 2.1425e-05 - val_mae: 0.0031\n",
            "Epoch 38/50\n",
            "\u001b[1m4/4\u001b[0m \u001b[32m━━━━━━━━━━━━━━━━━━━━\u001b[0m\u001b[37m\u001b[0m \u001b[1m0s\u001b[0m 32ms/step - loss: 2.5037e-05 - mae: 0.0033 - val_loss: 2.1513e-05 - val_mae: 0.0031\n",
            "Epoch 39/50\n",
            "\u001b[1m4/4\u001b[0m \u001b[32m━━━━━━━━━━━━━━━━━━━━\u001b[0m\u001b[37m\u001b[0m \u001b[1m0s\u001b[0m 30ms/step - loss: 2.1099e-05 - mae: 0.0031 - val_loss: 2.0639e-05 - val_mae: 0.0031\n",
            "Epoch 40/50\n",
            "\u001b[1m4/4\u001b[0m \u001b[32m━━━━━━━━━━━━━━━━━━━━\u001b[0m\u001b[37m\u001b[0m \u001b[1m0s\u001b[0m 31ms/step - loss: 2.2798e-05 - mae: 0.0032 - val_loss: 2.0267e-05 - val_mae: 0.0030\n",
            "Epoch 41/50\n",
            "\u001b[1m4/4\u001b[0m \u001b[32m━━━━━━━━━━━━━━━━━━━━\u001b[0m\u001b[37m\u001b[0m \u001b[1m0s\u001b[0m 29ms/step - loss: 2.1539e-05 - mae: 0.0031 - val_loss: 2.0345e-05 - val_mae: 0.0030\n",
            "Epoch 42/50\n",
            "\u001b[1m4/4\u001b[0m \u001b[32m━━━━━━━━━━━━━━━━━━━━\u001b[0m\u001b[37m\u001b[0m \u001b[1m0s\u001b[0m 31ms/step - loss: 1.8872e-05 - mae: 0.0029 - val_loss: 1.9682e-05 - val_mae: 0.0030\n",
            "Epoch 43/50\n",
            "\u001b[1m4/4\u001b[0m \u001b[32m━━━━━━━━━━━━━━━━━━━━\u001b[0m\u001b[37m\u001b[0m \u001b[1m0s\u001b[0m 44ms/step - loss: 1.9147e-05 - mae: 0.0029 - val_loss: 1.9429e-05 - val_mae: 0.0030\n",
            "Epoch 44/50\n",
            "\u001b[1m4/4\u001b[0m \u001b[32m━━━━━━━━━━━━━━━━━━━━\u001b[0m\u001b[37m\u001b[0m \u001b[1m0s\u001b[0m 44ms/step - loss: 1.9354e-05 - mae: 0.0029 - val_loss: 1.9620e-05 - val_mae: 0.0030\n",
            "Epoch 45/50\n",
            "\u001b[1m4/4\u001b[0m \u001b[32m━━━━━━━━━━━━━━━━━━━━\u001b[0m\u001b[37m\u001b[0m \u001b[1m0s\u001b[0m 30ms/step - loss: 1.9762e-05 - mae: 0.0030 - val_loss: 1.9147e-05 - val_mae: 0.0029\n",
            "Epoch 46/50\n",
            "\u001b[1m4/4\u001b[0m \u001b[32m━━━━━━━━━━━━━━━━━━━━\u001b[0m\u001b[37m\u001b[0m \u001b[1m0s\u001b[0m 31ms/step - loss: 1.8568e-05 - mae: 0.0029 - val_loss: 1.8639e-05 - val_mae: 0.0029\n",
            "Epoch 47/50\n",
            "\u001b[1m4/4\u001b[0m \u001b[32m━━━━━━━━━━━━━━━━━━━━\u001b[0m\u001b[37m\u001b[0m \u001b[1m0s\u001b[0m 31ms/step - loss: 1.9929e-05 - mae: 0.0030 - val_loss: 1.8339e-05 - val_mae: 0.0029\n",
            "Epoch 48/50\n",
            "\u001b[1m4/4\u001b[0m \u001b[32m━━━━━━━━━━━━━━━━━━━━\u001b[0m\u001b[37m\u001b[0m \u001b[1m0s\u001b[0m 29ms/step - loss: 1.7758e-05 - mae: 0.0028 - val_loss: 1.8150e-05 - val_mae: 0.0029\n",
            "Epoch 49/50\n",
            "\u001b[1m4/4\u001b[0m \u001b[32m━━━━━━━━━━━━━━━━━━━━\u001b[0m\u001b[37m\u001b[0m \u001b[1m0s\u001b[0m 30ms/step - loss: 1.6917e-05 - mae: 0.0028 - val_loss: 1.8051e-05 - val_mae: 0.0029\n",
            "Epoch 50/50\n",
            "\u001b[1m4/4\u001b[0m \u001b[32m━━━━━━━━━━━━━━━━━━━━\u001b[0m\u001b[37m\u001b[0m \u001b[1m0s\u001b[0m 30ms/step - loss: 1.6800e-05 - mae: 0.0027 - val_loss: 1.7630e-05 - val_mae: 0.0028\n"
          ]
        }
      ],
      "source": [
        "# Training\n",
        "history = model.fit(X_train_scaled, y_train,\n",
        "                    epochs=50,\n",
        "                    batch_size=16,\n",
        "                    validation_split=0.2,\n",
        "                    verbose=1)"
      ]
    },
    {
      "cell_type": "markdown",
      "id": "97aae396",
      "metadata": {
        "id": "97aae396"
      },
      "source": [
        "### Evaluation multi-critères (dont 1 physique) / Visualisation\n",
        "\n",
        "<img src=\"images/Poisson1.png\" alt=\"Poisson 3\" width=\"400\"/>\n"
      ]
    },
    {
      "cell_type": "code",
      "execution_count": 5,
      "id": "f0243df4",
      "metadata": {
        "colab": {
          "base_uri": "https://localhost:8080/",
          "height": 537
        },
        "id": "f0243df4",
        "outputId": "b981870a-0eda-4a29-f375-33ffb9e736bc"
      },
      "outputs": [
        {
          "name": "stdout",
          "output_type": "stream",
          "text": [
            "\u001b[1m1/1\u001b[0m \u001b[32m━━━━━━━━━━━━━━━━━━━━\u001b[0m\u001b[37m\u001b[0m \u001b[1m0s\u001b[0m 87ms/step\n",
            "\n",
            "Test MSE: 0.0000\n"
          ]
        },
        {
          "data": {
            "image/png": "[encoded data removed]",
            "text/plain": [
              "<Figure size 1200x500 with 2 Axes>"
            ]
          },
          "metadata": {},
          "output_type": "display_data"
        },
        {
          "name": "stdout",
          "output_type": "stream",
          "text": [
            "Mean PDE residual: 7.4791\n"
          ]
        }
      ],
      "source": [
        "# Evaluation\n",
        "# Predict on test set\n",
        "y_pred = model.predict(X_test_scaled)\n",
        "\n",
        "# Calculate MSE\n",
        "mse = mean_squared_error(y_test, y_pred)\n",
        "print(f\"\\nTest MSE: {mse:.4f}\")\n",
        "\n",
        "# Visualize one prediction\n",
        "sample_idx = 0\n",
        "true_sol = y_test[sample_idx].reshape(45, 45)\n",
        "pred_sol = y_pred[sample_idx].reshape(45, 45)\n",
        "\n",
        "fig, (ax1, ax2) = plt.subplots(1, 2, figsize=(12, 5))\n",
        "ax1.imshow(true_sol, cmap='viridis')\n",
        "ax1.set_title('True Solution')\n",
        "ax2.imshow(pred_sol, cmap='viridis')\n",
        "ax2.set_title('Predicted Solution')\n",
        "plt.show()\n",
        "\n",
        "# Calculate PDE residual for a sample\n",
        "a_sample, b_sample = X_test[sample_idx]\n",
        "_, f = solve_poisson(a_sample, b_sample)\n",
        "\n",
        "# Calculate Laplacian of prediction\n",
        "h = 1/44\n",
        "laplacian = (pred_sol[:-2, 1:-1] + pred_sol[2:, 1:-1] +\n",
        "             pred_sol[1:-1, :-2] + pred_sol[1:-1, 2:] -\n",
        "             4*pred_sol[1:-1, 1:-1]) / h**2\n",
        "\n",
        "residual = np.abs(-laplacian - f[1:-1, 1:-1])\n",
        "print(f\"Mean PDE residual: {np.mean(residual):.4f}\")"
      ]
    },
    {
      "cell_type": "markdown",
      "id": "98e3b33c",
      "metadata": {},
      "source": [
        "### **Conclusion Critique**\n",
        "\n",
        "<img src=\"images/Poisson2.png\" alt=\"Poisson 4\" width=\"400\"/>\n",
        "\n",
        "\n",
        "#### **Résumé des résultats principaux**  \n",
        "- **Performance apparente excellente** :  \n",
        "  - MSE test = 0 suggère une adéquation parfaite aux données d'entraînement.  \n",
        "  - Le modèle a parfaitement appris à interpoler les solutions pour les paramètres \\((a, b)\\) testés.  \n",
        "\n",
        "- **Mais limite physique flagrante** :  \n",
        "  - Résidu PDE moyen = 7.47 révèle que les prédictions **ne respectent pas les lois physiques** sous-jacentes.  \n",
        "  - Le modèle est un \"excellent approximateur de données\" mais un \"mauvais physicien\".  \n",
        "\n",
        "---\n",
        "\n",
        "#### **Critique constructive**  \n",
        "1. **Problème de sur-ajustement (overfitting)** :  \n",
        "   - Un MSE=0 est suspect et indique probablement :  \n",
        "     - Un jeu d'entraînement trop petit (100 échantillons).  \n",
        "     - Une complexité excessive du modèle pour les données disponibles.  \n",
        "\n",
        "2. **Échec à généraliser la physique** :  \n",
        "   - Le réseau de neurones a appris à **copier les sorties** sans comprendre l'EDP.  \n",
        "   - Preuve : le résidu élevé de l'équation différentielle.  \n",
        "\n",
        "3. **Métrique trompeuse** :  \n",
        "   - Le MSE seul est inadéquat pour évaluer des problèmes physiques.  \n",
        "\n",
        "---\n",
        "\n",
        "#### **Propositions d'amélioration**  \n",
        "1. **Intégrer la physique dans le modèle** :  \n",
        "   - **Passer à un PINN (Physics-Informed Neural Network)** :  \n",
        "     - Ajouter le résidu PDE comme terme de régularisation dans la fonction de perte.  \n",
        "     - Exemple de terme de perte modifiée :  \n",
        "       ```python\n",
        "       loss = mse(y_true, y_pred) + lambda * pde_residual(y_pred)\n",
        "       ```  \n",
        "\n",
        "2. **Augmenter la diversité des données** :  \n",
        "   - Générer plus de simulations (≥500) avec des valeurs \\((a, b)\\) plus variées.  \n",
        "   - Ajouter du bruit contrôlé pour améliorer la robustesse.  \n",
        "\n",
        "3. **Métriques hybrides** :  \n",
        "   - Pondérer le MSE avec le résidu PDE dans l'évaluation.  \n",
        "   - Introduire des critères physiques supplémentaires (p.ex. conservation de l'énergie).  \n",
        "\n",
        "---\n",
        "\n",
        "#### **Perspectives**  \n",
        "- **Méthodes alternatives** :  \n",
        "  - **FNO (Fourier Neural Operator)** : Plus adapté aux EDPs et à la généralisation.  \n",
        "  - **Méthodes hybrides** : Coupler un solveur numérique classique avec un correcteur ML.  \n",
        "- **Optimisation de l'entraînement** :  \n",
        "  - Validation croisée sur des plages de \\((a, b)\\) non vues pendant l'entraînement.  \n",
        "  - Early stopping basé sur le résidu PDE plutôt que le MSE.  \n",
        "\n",
        "---"
      ]
    }
  ],
  "metadata": {
    "colab": {
      "provenance": []
    },
    "kernelspec": {
      "display_name": "dl-env",
      "language": "python",
      "name": "python3"
    },
    "language_info": {
      "codemirror_mode": {
        "name": "ipython",
        "version": 3
      },
      "file_extension": ".py",
      "mimetype": "text/x-python",
      "name": "python",
      "nbconvert_exporter": "python",
      "pygments_lexer": "ipython3",
      "version": "3.12.3"
    }
  },
  "nbformat": 4,
  "nbformat_minor": 5
}
